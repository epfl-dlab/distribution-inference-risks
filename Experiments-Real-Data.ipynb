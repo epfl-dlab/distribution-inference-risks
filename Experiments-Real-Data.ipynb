{
 "cells": [
  {
   "cell_type": "code",
   "execution_count": 4,
   "id": "ffc55945",
   "metadata": {},
   "outputs": [],
   "source": [
    "import numpy as np\n",
    "import pandas as pd\n",
    "import seaborn as sns\n",
    "import matplotlib.pyplot as plt\n",
    "\n",
    "import os\n",
    "from os import mkdir\n",
    "from os.path import join, exists\n",
    "\n",
    "from scipy.stats import ttest_ind\n",
    "\n",
    "from constants import N_TARGETS, N_SHADOWS, DEEPSETS_HYPERPARAMS, MLP_HYPERPARAMS"
   ]
  },
  {
   "cell_type": "code",
   "execution_count": 5,
   "id": "b6430a70",
   "metadata": {},
   "outputs": [
    {
     "ename": "ModuleNotFoundError",
     "evalue": "No module named 'requests'",
     "output_type": "error",
     "traceback": [
      "\u001b[0;31m---------------------------------------------------------------------------\u001b[0m",
      "\u001b[0;31mModuleNotFoundError\u001b[0m                       Traceback (most recent call last)",
      "Input \u001b[0;32mIn [5]\u001b[0m, in \u001b[0;36m<cell line: 1>\u001b[0;34m()\u001b[0m\n\u001b[0;32m----> 1\u001b[0m \u001b[38;5;28;01mimport\u001b[39;00m \u001b[38;5;21;01mrequests\u001b[39;00m\n\u001b[1;32m      2\u001b[0m \u001b[38;5;28;01mfrom\u001b[39;00m \u001b[38;5;21;01mgetpass\u001b[39;00m \u001b[38;5;28;01mimport\u001b[39;00m getpass\n\u001b[1;32m      4\u001b[0m \u001b[38;5;28;01mclass\u001b[39;00m \u001b[38;5;21;01mBarmecide\u001b[39;00m:\n",
      "\u001b[0;31mModuleNotFoundError\u001b[0m: No module named 'requests'"
     ]
    }
   ],
   "source": [
    "import requests\n",
    "from getpass import getpass\n",
    "\n",
    "class Barmecide:\n",
    "    def __init__(self, token, chat=297134477):\n",
    "        self.token = token\n",
    "        self.chat = chat\n",
    "\n",
    "    def send_message(self, text):\n",
    "        requests.post(\n",
    "            'https://api.telegram.org/' + 'bot{}/sendMessage'.format(self.token),\n",
    "            params=dict(chat_id=self.chat, text=text)\n",
    "        )\n",
    "\n",
    "token = getpass('Barmecide token:')\n",
    "barmecide = Barmecide(token)"
   ]
  },
  {
   "cell_type": "code",
   "execution_count": 6,
   "id": "82584e71",
   "metadata": {},
   "outputs": [],
   "source": [
    "RESULTS_FOLDER = os.path.join(os.getcwd(), 'results')\n",
    "FIGURES_FOLDER = os.path.join(os.getcwd(), 'figures')\n",
    "DATA_FOLDER = os.path.join(os.getcwd(), 'data')"
   ]
  },
  {
   "cell_type": "code",
   "execution_count": 4,
   "id": "0d84bc34",
   "metadata": {},
   "outputs": [],
   "source": [
    "if not exists(RESULTS_FOLDER):\n",
    "    mkdir(RESULTS_FOLDER)\n",
    "    \n",
    "if not exists(FIGURES_FOLDER):\n",
    "    mkdir(FIGURES_FOLDER)"
   ]
  },
  {
   "cell_type": "code",
   "execution_count": 5,
   "id": "6852235b",
   "metadata": {},
   "outputs": [],
   "source": [
    "sns.set_theme(palette=sns.color_palette('YlOrRd_r', 3))\n",
    "sns.set_context('notebook', font_scale=1.5)"
   ]
  },
  {
   "cell_type": "code",
   "execution_count": 6,
   "id": "b1cc95a6",
   "metadata": {
    "scrolled": false
   },
   "outputs": [
    {
     "name": "stdout",
     "output_type": "stream",
     "text": [
      "(16384, 8)\n"
     ]
    },
    {
     "data": {
      "text/html": [
       "<div>\n",
       "<style scoped>\n",
       "    .dataframe tbody tr th:only-of-type {\n",
       "        vertical-align: middle;\n",
       "    }\n",
       "\n",
       "    .dataframe tbody tr th {\n",
       "        vertical-align: top;\n",
       "    }\n",
       "\n",
       "    .dataframe thead th {\n",
       "        text-align: right;\n",
       "    }\n",
       "</style>\n",
       "<table border=\"1\" class=\"dataframe\">\n",
       "  <thead>\n",
       "    <tr style=\"text-align: right;\">\n",
       "      <th></th>\n",
       "      <th>asia</th>\n",
       "      <th>tub</th>\n",
       "      <th>smoke</th>\n",
       "      <th>lung</th>\n",
       "      <th>bronc</th>\n",
       "      <th>either</th>\n",
       "      <th>xray</th>\n",
       "      <th>dysp</th>\n",
       "    </tr>\n",
       "  </thead>\n",
       "  <tbody>\n",
       "    <tr>\n",
       "      <th>0</th>\n",
       "      <td>1</td>\n",
       "      <td>1</td>\n",
       "      <td>0</td>\n",
       "      <td>1</td>\n",
       "      <td>0</td>\n",
       "      <td>1</td>\n",
       "      <td>1</td>\n",
       "      <td>0</td>\n",
       "    </tr>\n",
       "    <tr>\n",
       "      <th>1</th>\n",
       "      <td>1</td>\n",
       "      <td>1</td>\n",
       "      <td>1</td>\n",
       "      <td>0</td>\n",
       "      <td>0</td>\n",
       "      <td>0</td>\n",
       "      <td>0</td>\n",
       "      <td>0</td>\n",
       "    </tr>\n",
       "    <tr>\n",
       "      <th>2</th>\n",
       "      <td>1</td>\n",
       "      <td>1</td>\n",
       "      <td>0</td>\n",
       "      <td>1</td>\n",
       "      <td>0</td>\n",
       "      <td>1</td>\n",
       "      <td>1</td>\n",
       "      <td>0</td>\n",
       "    </tr>\n",
       "    <tr>\n",
       "      <th>3</th>\n",
       "      <td>1</td>\n",
       "      <td>1</td>\n",
       "      <td>1</td>\n",
       "      <td>1</td>\n",
       "      <td>0</td>\n",
       "      <td>1</td>\n",
       "      <td>1</td>\n",
       "      <td>0</td>\n",
       "    </tr>\n",
       "    <tr>\n",
       "      <th>4</th>\n",
       "      <td>1</td>\n",
       "      <td>1</td>\n",
       "      <td>0</td>\n",
       "      <td>1</td>\n",
       "      <td>0</td>\n",
       "      <td>1</td>\n",
       "      <td>0</td>\n",
       "      <td>0</td>\n",
       "    </tr>\n",
       "  </tbody>\n",
       "</table>\n",
       "</div>"
      ],
      "text/plain": [
       "   asia  tub  smoke  lung  bronc  either  xray  dysp\n",
       "0     1    1      0     1      0       1     1     0\n",
       "1     1    1      1     0      0       0     0     0\n",
       "2     1    1      0     1      0       1     1     0\n",
       "3     1    1      1     1      0       1     1     0\n",
       "4     1    1      0     1      0       1     0     0"
      ]
     },
     "execution_count": 6,
     "metadata": {},
     "output_type": "execute_result"
    }
   ],
   "source": [
    "asia = pd.read_csv(join(DATA_FOLDER, 'asia.csv.gz'), index_col=0)\n",
    "print(asia.shape)\n",
    "asia.head()"
   ]
  },
  {
   "cell_type": "code",
   "execution_count": 7,
   "id": "1b42bb67",
   "metadata": {},
   "outputs": [
    {
     "data": {
      "text/plain": [
       "asia      int64\n",
       "tub       int64\n",
       "smoke     int64\n",
       "lung      int64\n",
       "bronc     int64\n",
       "either    int64\n",
       "xray      int64\n",
       "dysp      int64\n",
       "dtype: object"
      ]
     },
     "execution_count": 7,
     "metadata": {},
     "output_type": "execute_result"
    }
   ],
   "source": [
    "asia.dtypes"
   ]
  },
  {
   "cell_type": "code",
   "execution_count": 8,
   "id": "41d928a0",
   "metadata": {},
   "outputs": [
    {
     "data": {
      "text/plain": [
       "1    14541\n",
       "0     1843\n",
       "Name: xray, dtype: int64"
      ]
     },
     "execution_count": 8,
     "metadata": {},
     "output_type": "execute_result"
    }
   ],
   "source": [
    "asia.xray.value_counts()"
   ]
  },
  {
   "cell_type": "code",
   "execution_count": 9,
   "id": "b1fc44ba",
   "metadata": {},
   "outputs": [
    {
     "data": {
      "text/plain": [
       "1    9237\n",
       "0    7147\n",
       "Name: dysp, dtype: int64"
      ]
     },
     "execution_count": 9,
     "metadata": {},
     "output_type": "execute_result"
    }
   ],
   "source": [
    "asia.dysp.value_counts()"
   ]
  },
  {
   "cell_type": "code",
   "execution_count": 10,
   "id": "6f49cd33",
   "metadata": {},
   "outputs": [
    {
     "data": {
      "text/plain": [
       "0    8290\n",
       "1    8094\n",
       "Name: smoke, dtype: int64"
      ]
     },
     "execution_count": 10,
     "metadata": {},
     "output_type": "execute_result"
    }
   ],
   "source": [
    "asia.smoke.value_counts()"
   ]
  },
  {
   "cell_type": "code",
   "execution_count": null,
   "id": "009d219e",
   "metadata": {
    "scrolled": false
   },
   "outputs": [
    {
     "name": "stdout",
     "output_type": "stream",
     "text": [
      "Running ERM experiment for prop=0.1\n"
     ]
    }
   ],
   "source": [
    "%%time\n",
    "\n",
    "from propinfer.generator import SubsamplingGenerator\n",
    "from propinfer.experiment import Experiment\n",
    "from propinfer.model import MLP\n",
    "\n",
    "from models import IRM\n",
    "\n",
    "from copy import copy\n",
    "\n",
    "MLP_HYPERPARAMS['input_size'] = asia.shape[1]\n",
    "MLP_HYPERPARAMS['n_classes'] = 2\n",
    "\n",
    "N_RUNS = 10\n",
    "\n",
    "res = pd.DataFrame(columns=['Dataset', 'Model', 'Proportion', 'Accuracy'])\n",
    "\n",
    "for prop in np.arange(0.1, 1., 0.1):\n",
    "    print(f'Running ERM experiment for prop={prop:.1f}')\n",
    "    gen = SubsamplingGenerator(data=asia, label_col='xray', sensitive_attribute='dysp', proportion=prop, split=True)\n",
    "    exp = Experiment(generator=gen, label_col='xray', model=MLP, n_targets=N_TARGETS, n_shadows=N_SHADOWS, hyperparams=MLP_HYPERPARAMS, n_queries=2048)\n",
    "    \n",
    "    exp.run_targets()\n",
    "    exp.run_shadows()\n",
    "    \n",
    "    acc = exp.run_whitebox_deepsets(DEEPSETS_HYPERPARAMS, n_outputs=N_RUNS)\n",
    "    \n",
    "    res.loc[len(res)] = ('Asia', 'ERM', prop, acc)\n",
    "    \n",
    "    barmecide.send_message(f'Experiment done: ERM prop={prop} (res={np.mean(acc)})')\n",
    "    \n",
    "IRM_HYPERPARAMS = copy(MLP_HYPERPARAMS)    \n",
    "\n",
    "IRM_HYPERPARAMS['input_size'] = asia.shape[1] - 2\n",
    "IRM_HYPERPARAMS['epochs'] = 2**11\n",
    "IRM_HYPERPARAMS['reg'] = 0.1\n",
    "IRM_HYPERPARAMS['env_label'] = 'smoke'\n",
    "    \n",
    "for prop in np.arange(0.1, 1., 0.1):\n",
    "    print(f'Running IRM experiment for prop={prop:.1f}')\n",
    "    gen = SubsamplingGenerator(data=asia, label_col='xray', sensitive_attribute='dysp', proportion=prop, split=True)\n",
    "    exp = Experiment(generator=gen, label_col='xray', model=IRM, n_targets=N_TARGETS, n_shadows=N_SHADOWS, hyperparams=IRM_HYPERPARAMS, n_queries=2048)\n",
    "    \n",
    "    exp.run_targets()\n",
    "    exp.run_shadows()\n",
    "    \n",
    "    acc = exp.run_whitebox_deepsets(DEEPSETS_HYPERPARAMS, n_outputs=N_RUNS)\n",
    "    \n",
    "    res.loc[len(res)] = ('Asia', 'IRM', prop, acc)\n",
    "    \n",
    "    barmecide.send_message(f'Experiment done: IRM prop={prop} (res={np.mean(acc)})')"
   ]
  },
  {
   "cell_type": "code",
   "execution_count": null,
   "id": "aaea6467",
   "metadata": {
    "scrolled": true
   },
   "outputs": [],
   "source": [
    "res.explode('Accuracy').to_csv(join(RESULTS_FOLDER, 'real_data.csv'))"
   ]
  },
  {
   "cell_type": "code",
   "execution_count": 15,
   "id": "5cfc2f0b",
   "metadata": {
    "scrolled": false
   },
   "outputs": [
    {
     "data": {
      "text/html": [
       "<div>\n",
       "<style scoped>\n",
       "    .dataframe tbody tr th:only-of-type {\n",
       "        vertical-align: middle;\n",
       "    }\n",
       "\n",
       "    .dataframe tbody tr th {\n",
       "        vertical-align: top;\n",
       "    }\n",
       "\n",
       "    .dataframe thead th {\n",
       "        text-align: right;\n",
       "    }\n",
       "</style>\n",
       "<table border=\"1\" class=\"dataframe\">\n",
       "  <thead>\n",
       "    <tr style=\"text-align: right;\">\n",
       "      <th></th>\n",
       "      <th>Dataset</th>\n",
       "      <th>Model</th>\n",
       "      <th>Proportion</th>\n",
       "      <th>Accuracy</th>\n",
       "    </tr>\n",
       "  </thead>\n",
       "  <tbody>\n",
       "    <tr>\n",
       "      <th>0</th>\n",
       "      <td>Asia</td>\n",
       "      <td>ERM</td>\n",
       "      <td>0.1</td>\n",
       "      <td>0.683594</td>\n",
       "    </tr>\n",
       "    <tr>\n",
       "      <th>0</th>\n",
       "      <td>Asia</td>\n",
       "      <td>ERM</td>\n",
       "      <td>0.1</td>\n",
       "      <td>0.753906</td>\n",
       "    </tr>\n",
       "    <tr>\n",
       "      <th>0</th>\n",
       "      <td>Asia</td>\n",
       "      <td>ERM</td>\n",
       "      <td>0.1</td>\n",
       "      <td>0.688477</td>\n",
       "    </tr>\n",
       "    <tr>\n",
       "      <th>0</th>\n",
       "      <td>Asia</td>\n",
       "      <td>ERM</td>\n",
       "      <td>0.1</td>\n",
       "      <td>0.647461</td>\n",
       "    </tr>\n",
       "    <tr>\n",
       "      <th>0</th>\n",
       "      <td>Asia</td>\n",
       "      <td>ERM</td>\n",
       "      <td>0.1</td>\n",
       "      <td>0.708984</td>\n",
       "    </tr>\n",
       "    <tr>\n",
       "      <th>...</th>\n",
       "      <td>...</td>\n",
       "      <td>...</td>\n",
       "      <td>...</td>\n",
       "      <td>...</td>\n",
       "    </tr>\n",
       "    <tr>\n",
       "      <th>17</th>\n",
       "      <td>Asia</td>\n",
       "      <td>IRM</td>\n",
       "      <td>0.9</td>\n",
       "      <td>0.500977</td>\n",
       "    </tr>\n",
       "    <tr>\n",
       "      <th>17</th>\n",
       "      <td>Asia</td>\n",
       "      <td>IRM</td>\n",
       "      <td>0.9</td>\n",
       "      <td>0.503906</td>\n",
       "    </tr>\n",
       "    <tr>\n",
       "      <th>17</th>\n",
       "      <td>Asia</td>\n",
       "      <td>IRM</td>\n",
       "      <td>0.9</td>\n",
       "      <td>0.483398</td>\n",
       "    </tr>\n",
       "    <tr>\n",
       "      <th>17</th>\n",
       "      <td>Asia</td>\n",
       "      <td>IRM</td>\n",
       "      <td>0.9</td>\n",
       "      <td>0.468750</td>\n",
       "    </tr>\n",
       "    <tr>\n",
       "      <th>17</th>\n",
       "      <td>Asia</td>\n",
       "      <td>IRM</td>\n",
       "      <td>0.9</td>\n",
       "      <td>0.500000</td>\n",
       "    </tr>\n",
       "  </tbody>\n",
       "</table>\n",
       "<p>180 rows × 4 columns</p>\n",
       "</div>"
      ],
      "text/plain": [
       "   Dataset Model  Proportion  Accuracy\n",
       "0     Asia   ERM         0.1  0.683594\n",
       "0     Asia   ERM         0.1  0.753906\n",
       "0     Asia   ERM         0.1  0.688477\n",
       "0     Asia   ERM         0.1  0.647461\n",
       "0     Asia   ERM         0.1  0.708984\n",
       "..     ...   ...         ...       ...\n",
       "17    Asia   IRM         0.9  0.500977\n",
       "17    Asia   IRM         0.9  0.503906\n",
       "17    Asia   IRM         0.9  0.483398\n",
       "17    Asia   IRM         0.9  0.468750\n",
       "17    Asia   IRM         0.9  0.500000\n",
       "\n",
       "[180 rows x 4 columns]"
      ]
     },
     "execution_count": 15,
     "metadata": {},
     "output_type": "execute_result"
    }
   ],
   "source": [
    "res = pd.read_csv(join(RESULTS_FOLDER, 'real_data.csv'), index_col=0)\n",
    "res"
   ]
  },
  {
   "cell_type": "code",
   "execution_count": 16,
   "id": "e02f0ff1",
   "metadata": {},
   "outputs": [
    {
     "data": {
      "text/plain": [
       "<AxesSubplot:xlabel='Proportion', ylabel='Accuracy'>"
      ]
     },
     "execution_count": 16,
     "metadata": {},
     "output_type": "execute_result"
    },
    {
     "data": {
      "image/png": "[encoded data removed]",
      "text/plain": [
       "<Figure size 640x480 with 1 Axes>"
      ]
     },
     "metadata": {},
     "output_type": "display_data"
    }
   ],
   "source": [
    "sns.lineplot(data=res, x='Proportion', y='Accuracy', hue='Model', errorbar='sd', err_style='bars')"
   ]
  },
  {
   "cell_type": "code",
   "execution_count": null,
   "id": "321eb7f9",
   "metadata": {},
   "outputs": [],
   "source": []
  }
 ],
 "metadata": {
  "kernelspec": {
   "display_name": "Python 3 (ipykernel)",
   "language": "python",
   "name": "python3"
  },
  "language_info": {
   "codemirror_mode": {
    "name": "ipython",
    "version": 3
   },
   "file_extension": ".py",
   "mimetype": "text/x-python",
   "name": "python",
   "nbconvert_exporter": "python",
   "pygments_lexer": "ipython3",
   "version": "3.9.13"
  }
 },
 "nbformat": 4,
 "nbformat_minor": 5
}
